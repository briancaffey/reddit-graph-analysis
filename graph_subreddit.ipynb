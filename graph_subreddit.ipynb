{
 "cells": [
  {
   "cell_type": "markdown",
   "metadata": {},
   "source": [
    "# Graphing Subreddits\n",
    "\n",
    "This notebook explores some basic concepts of graph theory. A few weeks ago I set up a script to scrape data from [reddit.com](reddit.com) with the goal of visualizing the network of related subreddits (forums on specific topics) and related data. \n",
    "\n",
    "Reddit is home over 600,000 communities, known as subreddits, where people come to share information, opinions, links, etc. and discuss things in a open forum. Most subreddits display links to related subreddits. For example, /r/apple (the Apple subreddit) links to /r/iPhone, a subreddit all about the iPhone, and over a dozen other Apple-related subreddits. \n",
    "\n",
    "If you visit reddit.com as a guest, you will see a list of popular subreddits. This list is located inside an `html` tag called `drop-choices`. Here it is:"
   ]
  },
  {
   "cell_type": "code",
   "execution_count": null,
   "metadata": {
    "collapsed": false
   },
   "outputs": [],
   "source": [
    "from selenium import webdriver\n",
    "import re\n",
    "import time\n",
    "import numpy as np\n",
    "from bs4 import BeautifulSoup\n",
    "\n",
    "driver = webdriver.PhantomJS()\n",
    "driver.get('https://www.reddit.com/')\n",
    "time.sleep(4 + np.random.random())\n",
    "html = driver.page_source.encode('utf-8')\n",
    "\n",
    "s = BeautifulSoup(html)\n",
    "defaults = s.find('div', attrs={'class':'drop-choices'})\n",
    "subs = re.compile(r\"\\/r\\/[\\w.]+\\/?\")\n",
    "default_subreddits = list(set(subs.findall(str(defaults))))\n",
    "\n",
    "for x in default_subreddits: print '[' + x + '](https://reddit.com'+ x + '), ',"
   ]
  },
  {
   "cell_type": "markdown",
   "metadata": {},
   "source": [
    "Here are the elements of `default_subreddits`:\n",
    "\n",
    "> \n",
    "[/r/LifeProTips/](https://reddit.com/r/LifeProTips/),  [/r/Futurology/](https://reddit.com/r/Futurology/),  [/r/OldSchoolCool/](https://reddit.com/r/OldSchoolCool/),  [/r/mildlyinteresting/](https://reddit.com/r/mildlyinteresting/),  [/r/askscience/](https://reddit.com/r/askscience/),  [/r/UpliftingNews/](https://reddit.com/r/UpliftingNews/),  [/r/aww/](https://reddit.com/r/aww/),  [/r/GetMotivated/](https://reddit.com/r/GetMotivated/),  [/r/personalfinance/](https://reddit.com/r/personalfinance/),  [/r/gadgets/](https://reddit.com/r/gadgets/),  [/r/science/](https://reddit.com/r/science/),  [/r/dataisbeautiful/](https://reddit.com/r/dataisbeautiful/),  [/r/DIY/](https://reddit.com/r/DIY/),  [/r/AskReddit/](https://reddit.com/r/AskReddit/),  [/r/space/](https://reddit.com/r/space/),  [/r/nosleep/](https://reddit.com/r/nosleep/),  [/r/Documentaries/](https://reddit.com/r/Documentaries/),  [/r/todayilearned/](https://reddit.com/r/todayilearned/),  [/r/television/](https://reddit.com/r/television/),  [/r/IAmA/](https://reddit.com/r/IAmA/),  [/r/Art/](https://reddit.com/r/Art/),  [/r/EarthPorn/](https://reddit.com/r/EarthPorn/),  [/r/books/](https://reddit.com/r/books/),  [/r/gifs/](https://reddit.com/r/gifs/),  [/r/Showerthoughts/](https://reddit.com/r/Showerthoughts/),  [/r/blog/](https://reddit.com/r/blog/),  [/r/news/](https://reddit.com/r/news/),  [/r/Jokes/](https://reddit.com/r/Jokes/),  [/r/TwoXChromosomes/](https://reddit.com/r/TwoXChromosomes/),  [/r/videos/](https://reddit.com/r/videos/),  [/r/philosophy/](https://reddit.com/r/philosophy/),  [/r/nottheonion/](https://reddit.com/r/nottheonion/),  [/r/explainlikeimfive/](https://reddit.com/r/explainlikeimfive/),  [/r/movies/](https://reddit.com/r/movies/),  [/r/Music/](https://reddit.com/r/Music/),  [/r/WritingPrompts/](https://reddit.com/r/WritingPrompts/),  [/r/worldnews/](https://reddit.com/r/worldnews/),  [/r/pics/](https://reddit.com/r/pics/),  [/r/history/](https://reddit.com/r/history/),  [/r/listentothis/](https://reddit.com/r/listentothis/),  [/r/sports/](https://reddit.com/r/sports/),  [/r/food/](https://reddit.com/r/food/),  [/r/creepy/](https://reddit.com/r/creepy/),  [/r/announcements/](https://reddit.com/r/announcements/),  [/r/gaming/](https://reddit.com/r/gaming/),  [/r/tifu/](https://reddit.com/r/tifu/),  [/r/funny/](https://reddit.com/r/funny/),  [/r/photoshopbattles/](https://reddit.com/r/photoshopbattles/),  [/r/InternetIsBeautiful/](https://reddit.com/r/InternetIsBeautiful/),  "
   ]
  },
  {
   "cell_type": "markdown",
   "metadata": {},
   "source": [
    "My goal here is to see how many subreddits we can reach as we branch off of these \"default\" subreddits into their related subreddits.\n",
    "\n",
    "First, we need to set up data structures to hold data for subreddits and their related subreddits. And we need to define an algorithm for collecting data. "
   ]
  },
  {
   "cell_type": "markdown",
   "metadata": {},
   "source": [
    "Here's an intrdoduction to graphs from [python.org](https://www.python.org/doc/essays/graphs/):\n",
    "\n",
    "> Few programming languages provide direct support for graphs as a data type, and Python is no exception. However, graphs are easily built out of lists and dictionaries. For instance, here's a simple graph (I can't use drawings in these columns, so I write down the graph's arcs):\n",
    "\n",
    ">```A -> B\n",
    "A -> C\n",
    "B -> C\n",
    "B -> D\n",
    "C -> D\n",
    "D -> C\n",
    "E -> F\n",
    "F -> C \n",
    "```\n",
    "\n",
    "This graph has six nodes (A-F) and eight arcs. It can be represented by the following Python data structure:\n",
    ">```graph =     {'A': ['B', 'C'],\n",
    "             'B': ['C', 'D'],\n",
    "             'C': ['D'],\n",
    "             'D': ['C'],\n",
    "             'E': ['F'],\n",
    "             'F': ['C']}```"
   ]
  },
  {
   "cell_type": "markdown",
   "metadata": {},
   "source": [
    "First let's define how we would go only one branch deep into this graph (i.e. find the related subreddits for *only* the default subreddits). To collect the data, I first looped through the default subreddits and save the html of each subreddit to its own text file. Here's a script with comments: "
   ]
  },
  {
   "cell_type": "code",
   "execution_count": null,
   "metadata": {
    "collapsed": true
   },
   "outputs": [],
   "source": [
    "#first we navigate to the correct folder where we will store the first level of related subreddits\n",
    "os.chdir(os.path.expanduser('~/Documents/Projects/Data/Subreddits/one/'))\n",
    "\n",
    "#next we instantiate the webdriver we will be using: PhantomJS\n",
    "driver = webdriver.PhantomJS()\n",
    "\n",
    "#loop through the list of default subreddits\n",
    "for num, subreddit in enumerate(default_subreddits):\n",
    "    \n",
    "    #for each subreddit, we append the /r/subreddit path to the base URL (reddit.com)\n",
    "    driver.get('https://www.reddit.com'+subreddit)\n",
    "    \n",
    "    #wait for two seconds\n",
    "    time.sleep(2 + np.random.random())\n",
    "    \n",
    "    #save the html of the loaded page to a variable: html\n",
    "    html = driver.page_source.encode('utf-8')\n",
    "    \n",
    "    #remove '/r/' from the subreddit name string\n",
    "    name = subreddit.split('/')[2]\n",
    "    \n",
    "    #open a new file and give it the name of the subreddit we just scraped\n",
    "    subreddit_html_file = open(name+'.txt', 'w+')\n",
    "    \n",
    "    #write the html contents to the file\n",
    "    subreddit_html_file.write(html)\n",
    "    \n",
    "    #clost the file\n",
    "    subreddit_html_file.close()\n",
    "    \n",
    "    #print out the number and name of the subreddit we just scrapped to make sure things are working\n",
    "    print str(num) + ' ' + subreddit,\n"
   ]
  },
  {
   "cell_type": "markdown",
   "metadata": {},
   "source": [
    "Next, we want to go through each file and extract the information we want. Here's what we will be getting:\n",
    "\n",
    "- Number of subscribers\n",
    "- Subreddit description\n",
    "- Date created\n",
    "- Related subreddits\n",
    "\n",
    "For this type of project, I prefer to loop through each page and creating several small dictionaries for each data point, then combine the small dictionaries into a large dictionary, and then append the dictionary to a list of dictionaries. Once I have looped through all of the pages, I can create a pandas DataFrame from the list of dictionaries. This allows me to easily manipulate the data. Here's the script that I used to do this:"
   ]
  },
  {
   "cell_type": "code",
   "execution_count": null,
   "metadata": {
    "collapsed": true
   },
   "outputs": [],
   "source": [
    "#navigate to where the html files are stored (I moved them around a bit so it is not consistent with the script above)\n",
    "os.chdir('E://DATA/Subreddits/subreddits_html/')\n",
    "\n",
    "#generate a list of files that we will loop through\n",
    "files = os.listdir('E://DATA/Subreddits/subreddits_html/')\n",
    "\n",
    "#set up an empty list that we will append dictionaries to\n",
    "dict_list = []\n",
    "\n",
    "#loop through the files\n",
    "for file_ in files:\n",
    "    \n",
    "    #print out the name of the current file in the loop\n",
    "    print file_,\n",
    "    \n",
    "    #open the file\n",
    "    f = open(file_, 'r')\n",
    "    #read the file contents to a local variable\n",
    "    html = f.read()\n",
    "    #create a BeautifulSoup object that we will use to parse the HTML\n",
    "    b = BeautifulSoup(html, 'lxml')\n",
    "\n",
    "    #get the subreddit name that we are working with (from the `file` variable)\n",
    "    subreddit_name = '/r/' + file_[:-4].lower()\n",
    "    #put the name into a dictionary\n",
    "    subreddit_name_dict = {'subreddit':subreddit_name}\n",
    "    \n",
    "    #get number of subscribers\n",
    "    subs = b.find('span', attrs={'class':'subscribers'})\n",
    "    #if the number of subscribers is displayed on the page, then we find it and add it to a dictionary\n",
    "    if subs:\n",
    "        subs = b.find('span', attrs={'class':'subscribers'}).find('span', attrs={'class':'number'}).text.replace(',', '')\n",
    "        subs_dict = {'subscribers':int(subs)}\n",
    "    #if the number of subscribers is not displayed on the page, then we set the number of subscribers in the dictionary to None\n",
    "    else:\n",
    "        subs_dict = {'subscribers':None}\n",
    "    \n",
    "    #similar process for the description: if the description is displayed, get it and save it to desc\n",
    "    #if it is not available, then desc will be set to `None`\n",
    "    desc = b.find('div', attrs={'class':'md'})\n",
    "    if desc:\n",
    "        desc = b.find('div', attrs={'class':'md'}).text\n",
    "        desc = desc.replace('\\n', ' ')\n",
    "    desc_dict = {'description':desc}\n",
    "\n",
    "    #here we use regular expressions to find links anywhere on the page that have the structure: \"/r/something/\"\n",
    "    rel_subr = re.compile(r\"\\/r\\/[\\w.]+\\/?\")\n",
    "    #make a list of these links based on the \"/r/something/\" pattern\n",
    "    related_subreddits = rel_subr.findall(html)\n",
    "    \n",
    "    #save the list to a dictionary\n",
    "    subreddits_dict = {'related':related_subreddits}\n",
    "    \n",
    "    #same processes for recording the date that the subreddit was created: get the date from an HTML element, \n",
    "    #then save it to a dictionary. There were two different formats available in the HTML so I grabbed both\n",
    "    age = b.find('span', attrs={'class':'age'})\n",
    "    if age: \n",
    "        time1 = age.find('time')['title']\n",
    "        time2 = age.find('time')['datetime']\n",
    "    \n",
    "    #save the date to a dictionary\n",
    "    time_dict = {\"date1\":time1, \"date2\":time2}\n",
    "\n",
    "    #take all the dictionaries we just created and put them together into one big dictionary\n",
    "    dictionary = dict(subs_dict.items()+desc_dict.items()+subreddits_dict.items()+subreddit_name_dict.items()+time_dict.items())\n",
    "\n",
    "    #append the big dictionary to the list that we defined right before the beginning of the loop\n",
    "    dict_list.append(dictionary)\n",
    "    \n",
    "    #deconstruct the Beautiful Soup object (this can eat up memory very quickly, so it is very important when processing lots of data)\n",
    "    b.decompose()\n",
    "    \n",
    "    #clost the file\n",
    "    f.close()"
   ]
  },
  {
   "cell_type": "markdown",
   "metadata": {},
   "source": [
    "Next, let's save the results into a csv file. This let's us load the results quickly without having to scrape everyting again. To do this we can use the pandas library. "
   ]
  },
  {
   "cell_type": "code",
   "execution_count": 39,
   "metadata": {
    "collapsed": true
   },
   "outputs": [],
   "source": [
    "import pandas as pd\n",
    "df0 = pd.DataFrame(dict_list, index=None)"
   ]
  },
  {
   "cell_type": "markdown",
   "metadata": {},
   "source": [
    "At this point, we can go through the `related` column in the DataFrame and put together a list of all the related subreddits. With this list, we can simply repeat the process over and over again. However, each time we start with a new list of subreddits, we want to make sure that they have not already been collected. \n",
    "\n",
    "Next I will read in one DataFrame that represents related subreddits \"three levels deep\" relative to the default subreddits. \n",
    "\n",
    "**Default --> Related --> Related --> Related**\n",
    "\n",
    "This DataFrame represents the collection of subreddits from all of these \"layers\" of the graph. "
   ]
  },
  {
   "cell_type": "code",
   "execution_count": 5,
   "metadata": {
    "collapsed": false
   },
   "outputs": [],
   "source": [
    "import os\n",
    "os.chdir(os.path.expanduser('~/Documents/Projects/Data/reddit_graph/'))\n",
    "master_df = pd.read_pickle('master_df.p')"
   ]
  },
  {
   "cell_type": "markdown",
   "metadata": {},
   "source": [
    "Now we can do a quick visualization of the growth in number of subreddits since the website's start in 2005. "
   ]
  },
  {
   "cell_type": "code",
   "execution_count": 8,
   "metadata": {
    "collapsed": false
   },
   "outputs": [
    {
     "data": {
      "text/plain": [
       "<matplotlib.text.Text at 0x118b6ac8>"
      ]
     },
     "execution_count": 8,
     "metadata": {},
     "output_type": "execute_result"
    },
    {
     "data": {
      "image/png": "[encoded data removed]",
      "text/plain": [
       "<matplotlib.figure.Figure at 0x1127ee10>"
      ]
     },
     "metadata": {},
     "output_type": "display_data"
    }
   ],
   "source": [
    "%matplotlib inline\n",
    "import matplotlib.pyplot as plt\n",
    "import seaborn as sns\n",
    "import numpy as np\n",
    "\n",
    "master_df_ = master_df[master_df.notnull()]\n",
    "master_df_.date1 = pd.to_datetime(master_df_['date1'])\n",
    "\n",
    "list_of_dates = master_df_.date1.sort_values()\n",
    "\n",
    "counts = np.arange(0, len(list_of_dates))\n",
    "_ = plt.plot(list_of_dates, counts)\n",
    "plt.title('Number of subreddits over time')\n",
    "plt.xlabel('Date')\n",
    "plt.ylabel('Cummulative Count')"
   ]
  },
  {
   "cell_type": "markdown",
   "metadata": {},
   "source": [
    "# Setting up a graph with NetworkX\n",
    "\n",
    "Next we can start to look at the collection of reddits and related subreddits as a graph. I will be using a Python package for network and graph analysis called [NetworkX](https://networkx.github.io). "
   ]
  },
  {
   "cell_type": "code",
   "execution_count": 9,
   "metadata": {
    "collapsed": true
   },
   "outputs": [],
   "source": [
    "#Let's make sure that we have only unique entries in the dataframe.\n",
    "master_df_u = master_df_.drop_duplicates('subreddit')"
   ]
  },
  {
   "cell_type": "code",
   "execution_count": 13,
   "metadata": {
    "collapsed": false
   },
   "outputs": [],
   "source": [
    "master_df_u = master_df_u.drop(master_df_u.index[master_df_u.subreddit=='/r/track__subreddits_'])"
   ]
  },
  {
   "cell_type": "code",
   "execution_count": 15,
   "metadata": {
    "collapsed": true
   },
   "outputs": [],
   "source": [
    "#here we define a dictionary where the keys are subreddits and the values are lists of related subreddits\n",
    "graph = {x:y for x, y in zip(master_df_u.subreddit, master_df_u.related)}"
   ]
  },
  {
   "cell_type": "code",
   "execution_count": 16,
   "metadata": {
    "collapsed": true
   },
   "outputs": [],
   "source": [
    "#NetworkX comes with the python Anaconda distribution\n",
    "import networkx as nx"
   ]
  },
  {
   "cell_type": "code",
   "execution_count": 17,
   "metadata": {
    "collapsed": true
   },
   "outputs": [],
   "source": [
    "G=nx.Graph()\n",
    "G=nx.from_dict_of_lists(graph)\n",
    "#making the graph undirected takes all of the vertices between nodes and makes them bi-directional\n",
    "G1 = G.to_undirected()"
   ]
  },
  {
   "cell_type": "code",
   "execution_count": 23,
   "metadata": {
    "collapsed": false
   },
   "outputs": [
    {
     "name": "stdout",
     "output_type": "stream",
     "text": [
      "['/r/streetboarding' '/r/stephenking']\n"
     ]
    }
   ],
   "source": [
    "choice = np.random.choice(master_df_u.subreddit, 2)\n",
    "print choice"
   ]
  },
  {
   "cell_type": "markdown",
   "metadata": {},
   "source": [
    "Let's test out some of the functions from NetworkX for graph analysis. First, let's take the two randomly selected nodes defined above and test to see if there exists a path between them:"
   ]
  },
  {
   "cell_type": "code",
   "execution_count": 27,
   "metadata": {
    "collapsed": false
   },
   "outputs": [
    {
     "data": {
      "text/plain": [
       "True"
      ]
     },
     "execution_count": 27,
     "metadata": {},
     "output_type": "execute_result"
    }
   ],
   "source": [
    "nx.has_path(G1, choice[0], choice[1])"
   ]
  },
  {
   "cell_type": "markdown",
   "metadata": {},
   "source": [
    "# Shortest path\n",
    "\n",
    "Now let's see (at least one of) the shortest path that exists between these nodes: "
   ]
  },
  {
   "cell_type": "code",
   "execution_count": 29,
   "metadata": {
    "collapsed": false
   },
   "outputs": [
    {
     "data": {
      "text/plain": [
       "['/r/streetboarding',\n",
       " '/r/freebord',\n",
       " '/r/adrenaline',\n",
       " '/r/imaginaryadrenaline',\n",
       " '/r/imaginarystephenking',\n",
       " '/r/stephenking']"
      ]
     },
     "execution_count": 29,
     "metadata": {},
     "output_type": "execute_result"
    }
   ],
   "source": [
    "nx.shortest_path(G1, choice[0], choice[1])"
   ]
  },
  {
   "cell_type": "markdown",
   "metadata": {},
   "source": [
    "Let's write a function that selects two random subreddits and then prints a shortest path if it exists:"
   ]
  },
  {
   "cell_type": "code",
   "execution_count": 30,
   "metadata": {
    "collapsed": true
   },
   "outputs": [],
   "source": [
    "def short_path():\n",
    "    choices = np.random.choice(master_df_u.subreddit, 2)\n",
    "    if nx.has_path(G1, choices[0], choices[1]) == True:\n",
    "        path = nx.shortest_path(G1, choices[0], choices[1])\n",
    "        print choices[0] + ' and ' + choices[1] + ' are joined by: \\n' + str(path)\n",
    "    else: \n",
    "        print \"No path exists between \" + choices[0] + ' and ' + choices[1]"
   ]
  },
  {
   "cell_type": "markdown",
   "metadata": {},
   "source": [
    "Here's a collection of results from the `short_path` function defined above that start to paint a picuture of the broad set of topics covered by reddit.com: "
   ]
  },
  {
   "cell_type": "code",
   "execution_count": 41,
   "metadata": {
    "collapsed": false
   },
   "outputs": [
    {
     "name": "stdout",
     "output_type": "stream",
     "text": [
      "/r/personalizationadvice and /r/beautifulfemales are joined by: \n",
      "['/r/personalizationadvice', '/r/coloranalysis', '/r/fashion', '/r/redcarpet', '/r/gentlemanboners', '/r/beautifulfemales']\n"
     ]
    }
   ],
   "source": [
    "short_path()"
   ]
  },
  {
   "cell_type": "code",
   "execution_count": 42,
   "metadata": {
    "collapsed": false
   },
   "outputs": [
    {
     "name": "stdout",
     "output_type": "stream",
     "text": [
      "/r/caffeine and /r/shittyramen are joined by: \n",
      "['/r/caffeine', '/r/toast', '/r/cooking', '/r/ramen', '/r/shittyramen']\n"
     ]
    }
   ],
   "source": [
    "short_path()"
   ]
  },
  {
   "cell_type": "code",
   "execution_count": 53,
   "metadata": {
    "collapsed": false
   },
   "outputs": [
    {
     "name": "stdout",
     "output_type": "stream",
     "text": [
      "/r/watchingcongress and /r/iwantthatonashirt are joined by: \n",
      "['/r/watchingcongress', '/r/stand', '/r/snowden', '/r/undelete', '/r/trees', '/r/iwantthatonashirt']\n"
     ]
    }
   ],
   "source": [
    "short_path()"
   ]
  },
  {
   "cell_type": "code",
   "execution_count": 47,
   "metadata": {
    "collapsed": false
   },
   "outputs": [
    {
     "name": "stdout",
     "output_type": "stream",
     "text": [
      "/r/asksciencediscussion and /r/dogsonhardwoodfloors are joined by: \n",
      "['/r/asksciencediscussion', '/r/badscience', '/r/badlinguistics', '/r/animalsbeingjerks', '/r/startledcats', '/r/dogsonhardwoodfloors']\n"
     ]
    }
   ],
   "source": [
    "short_path()"
   ]
  },
  {
   "cell_type": "code",
   "execution_count": 63,
   "metadata": {
    "collapsed": false
   },
   "outputs": [
    {
     "name": "stdout",
     "output_type": "stream",
     "text": [
      "/r/randommail and /r/mini are joined by: \n",
      "['/r/randommail', '/r/spiceexchange', '/r/cameraswapping', '/r/itookapicture', '/r/carporn', '/r/mini']\n"
     ]
    }
   ],
   "source": [
    "short_path()"
   ]
  },
  {
   "cell_type": "code",
   "execution_count": 64,
   "metadata": {
    "collapsed": false
   },
   "outputs": [
    {
     "name": "stdout",
     "output_type": "stream",
     "text": [
      "/r/catsinsinks and /r/nzmovies are joined by: \n",
      "['/r/catsinsinks', '/r/wetcats', '/r/tinysubredditoftheday', '/r/sheep', '/r/nzmetahub', '/r/nzmovies']\n"
     ]
    }
   ],
   "source": [
    "short_path()"
   ]
  },
  {
   "cell_type": "code",
   "execution_count": 69,
   "metadata": {
    "collapsed": false
   },
   "outputs": [
    {
     "name": "stdout",
     "output_type": "stream",
     "text": [
      "/r/thoriumreactor and /r/sailing are joined by: \n",
      "['/r/thoriumreactor', '/r/energy', '/r/spev', '/r/sailing']\n"
     ]
    }
   ],
   "source": [
    "short_path()"
   ]
  },
  {
   "cell_type": "code",
   "execution_count": 76,
   "metadata": {
    "collapsed": false
   },
   "outputs": [
    {
     "name": "stdout",
     "output_type": "stream",
     "text": [
      "/r/deathnote and /r/vegetarianism are joined by: \n",
      "['/r/deathnote', '/r/television', '/r/netflixbestof', '/r/naturefilms', '/r/environment', '/r/vegetarianism']\n"
     ]
    }
   ],
   "source": [
    "short_path()"
   ]
  },
  {
   "cell_type": "code",
   "execution_count": 80,
   "metadata": {
    "collapsed": false
   },
   "outputs": [
    {
     "name": "stdout",
     "output_type": "stream",
     "text": [
      "/r/mississippir4r and /r/mathematics are joined by: \n",
      "['/r/mississippir4r', '/r/mississippi', '/r/prisonreform', '/r/socialscience', '/r/alltech', '/r/mathematics']\n"
     ]
    }
   ],
   "source": [
    "short_path()"
   ]
  },
  {
   "cell_type": "code",
   "execution_count": 81,
   "metadata": {
    "collapsed": false
   },
   "outputs": [
    {
     "name": "stdout",
     "output_type": "stream",
     "text": [
      "/r/britainsgottalent and /r/irelandbaldwin are joined by: \n",
      "['/r/britainsgottalent', '/r/britishtv', '/r/that70sshow', '/r/mila_kunis', '/r/christinaricci', '/r/irelandbaldwin']\n"
     ]
    }
   ],
   "source": [
    "short_path()"
   ]
  },
  {
   "cell_type": "code",
   "execution_count": 82,
   "metadata": {
    "collapsed": false
   },
   "outputs": [
    {
     "name": "stdout",
     "output_type": "stream",
     "text": [
      "/r/the_donald and /r/ladybusiness are joined by: \n",
      "['/r/the_donald', '/r/shitliberalssay', '/r/trollxchromosomes', '/r/ladybusiness']\n"
     ]
    }
   ],
   "source": [
    "short_path()"
   ]
  },
  {
   "cell_type": "code",
   "execution_count": 87,
   "metadata": {
    "collapsed": false
   },
   "outputs": [
    {
     "name": "stdout",
     "output_type": "stream",
     "text": [
      "/r/selfharm and /r/medlabprofessionals are joined by: \n",
      "['/r/selfharm', '/r/adhd', '/r/neuroimaging', '/r/pharmacy', '/r/medlabprofessionals']\n"
     ]
    }
   ],
   "source": [
    "short_path()"
   ]
  },
  {
   "cell_type": "code",
   "execution_count": 92,
   "metadata": {
    "collapsed": false
   },
   "outputs": [
    {
     "name": "stdout",
     "output_type": "stream",
     "text": [
      "/r/coverart and /r/phillycraftbeer are joined by: \n",
      "['/r/coverart', '/r/nostalgia', '/r/upvotedbecausegirl', '/r/wtf', '/r/remindsmeofdf', '/r/beer', '/r/phillycraftbeer']\n"
     ]
    }
   ],
   "source": [
    "short_path()"
   ]
  },
  {
   "cell_type": "markdown",
   "metadata": {},
   "source": [
    "Let's take a look under the hood of NetworkX and examine the algorith that finds the shortest path between any two subreddits:\n",
    "```\n",
    "def shortest_path(G, source=None, target=None, weight=None):\n",
    "    \"\"\"Compute shortest paths in the graph.\n",
    "\n",
    "    Parameters\n",
    "    ----------\n",
    "    G : NetworkX graph\n",
    "\n",
    "    source : node, optional\n",
    "        Starting node for path.\n",
    "        If not specified, compute shortest paths using all nodes as source nodes.\n",
    "\n",
    "    target : node, optional\n",
    "        Ending node for path.\n",
    "        If not specified, compute shortest paths using all nodes as target nodes.\n",
    "\n",
    "    weight : None or string, optional (default = None)\n",
    "        If None, every edge has weight/distance/cost 1.\n",
    "        If a string, use this edge attribute as the edge weight.\n",
    "        Any edge attribute not present defaults to 1.\n",
    "\n",
    "    Returns\n",
    "    -------\n",
    "    path: list or dictionary\n",
    "        All returned paths include both the source and target in the path.\n",
    "\n",
    "        If the source and target are both specified, return a single list\n",
    "        of nodes in a shortest path from the source to the target.\n",
    "\n",
    "        If only the source is specified, return a dictionary keyed by\n",
    "        targets with a list of nodes in a shortest path from the source\n",
    "        to one of the targets.\n",
    "\n",
    "        If only the target is specified, return a dictionary keyed by\n",
    "        sources with a list of nodes in a shortest path from one of the\n",
    "        sources to the target.\n",
    "\n",
    "        If neither the source nor target are specified return a dictionary\n",
    "        of dictionaries with path[source][target]=[list of nodes in path].\n",
    "\n",
    "    Examples\n",
    "    --------\n",
    "    >>> G=nx.path_graph(5)\n",
    "    >>> print(nx.shortest_path(G,source=0,target=4))\n",
    "    [0, 1, 2, 3, 4]\n",
    "    >>> p=nx.shortest_path(G,source=0) # target not specified\n",
    "    >>> p[4]\n",
    "    [0, 1, 2, 3, 4]\n",
    "    >>> p=nx.shortest_path(G,target=4) # source not specified\n",
    "    >>> p[0]\n",
    "    [0, 1, 2, 3, 4]\n",
    "    >>> p=nx.shortest_path(G) # source,target not specified\n",
    "    >>> p[0][4]\n",
    "    [0, 1, 2, 3, 4]\n",
    "\n",
    "    Notes\n",
    "    -----\n",
    "    There may be more than one shortest path between a source and target.\n",
    "    This returns only one of them.\n",
    "\n",
    "    See Also\n",
    "    --------\n",
    "    all_pairs_shortest_path()\n",
    "    all_pairs_dijkstra_path()\n",
    "    single_source_shortest_path()\n",
    "    single_source_dijkstra_path()\n",
    "    \"\"\"\n",
    "    if source is None:\n",
    "        if target is None:\n",
    "            ## Find paths between all pairs.\n",
    "            if weight is None:\n",
    "                paths=nx.all_pairs_shortest_path(G)\n",
    "            else:\n",
    "                paths=nx.all_pairs_dijkstra_path(G,weight=weight)\n",
    "        else:\n",
    "            ## Find paths from all nodes co-accessible to the target.\n",
    "            with nx.utils.reversed(G):\n",
    "                if weight is None:\n",
    "                    paths=nx.single_source_shortest_path(G, target)\n",
    "                else:\n",
    "                    paths=nx.single_source_dijkstra_path(G, target, weight=weight)\n",
    "\n",
    "                # Now flip the paths so they go from a source to the target.\n",
    "                for target in paths:\n",
    "                    paths[target] = list(reversed(paths[target]))\n",
    "\n",
    "    else:\n",
    "        if target is None:\n",
    "            ## Find paths to all nodes accessible from the source.\n",
    "            if weight is None:\n",
    "                paths=nx.single_source_shortest_path(G,source)\n",
    "            else:\n",
    "                paths=nx.single_source_dijkstra_path(G,source,weight=weight)\n",
    "        else:\n",
    "            ## Find shortest source-target path.\n",
    "            if weight is None:\n",
    "                paths=nx.bidirectional_shortest_path(G,source,target)\n",
    "            else:\n",
    "                paths=nx.dijkstra_path(G,source,target,weight)\n",
    "\n",
    "    return paths\n",
    "```"
   ]
  },
  {
   "cell_type": "markdown",
   "metadata": {},
   "source": [
    "This is a long definition, but when we call the function in the examples above, we include both the source and the target. With these arguments included, we could reduce the above definition to the following: \n",
    "\n",
    "```\n",
    "def shortest_path(G, source=None, target=None, weight=None):\n",
    "    paths=nx.bidirectional_shortest_path(G,source,target)\n",
    "    return paths\n",
    "```\n",
    "\n",
    "The `bidirectional_shortest_path` function is defined [here](http://networkx.readthedocs.io/en/networkx-1.11/_modules/networkx/algorithms/shortest_paths/unweighted.html?highlight=bidirectional_shortest_path)."
   ]
  },
  {
   "cell_type": "markdown",
   "metadata": {},
   "source": [
    "Centrality is anohter important topic in graph theory. Here's a brief introduction to centrality from [Wikipedia](https://en.wikipedia.org/wiki/Centrality): \n",
    "\n",
    "> In graph theory and network analysis, indicators of centrality identify the most important vertices within a graph. Applications include identifying the most influential person(s) in a social network, key infrastructure nodes in the Internet or urban networks, and super-spreaders of disease.\n",
    "\n",
    "There are several different methods of measuring centrality in a graph. Here I use `eigenvector_centrality_numpy`, a function included in NetworkX. It takes in a graph and returns a dictionary with graph nodes as keys and node centrality as values. "
   ]
  },
  {
   "cell_type": "code",
   "execution_count": 93,
   "metadata": {
    "collapsed": true
   },
   "outputs": [],
   "source": [
    "centrality = nx.eigenvector_centrality_numpy(G1)"
   ]
  },
  {
   "cell_type": "markdown",
   "metadata": {},
   "source": [
    "Let's see which subreddit has the highest centrality:"
   ]
  },
  {
   "cell_type": "code",
   "execution_count": 117,
   "metadata": {
    "collapsed": false
   },
   "outputs": [
    {
     "name": "stdout",
     "output_type": "stream",
     "text": [
      "/r/imaginarybattlefields 0.0721530261127\n"
     ]
    }
   ],
   "source": [
    "print max(centrality, key=centrality.get), centrality[max(centrality, key=centrality.get)]"
   ]
  },
  {
   "cell_type": "code",
   "execution_count": 103,
   "metadata": {
    "collapsed": false
   },
   "outputs": [
    {
     "data": {
      "text/plain": [
       "True"
      ]
     },
     "execution_count": 103,
     "metadata": {},
     "output_type": "execute_result"
    }
   ],
   "source": [
    "len(centrality) == len(sorted(centrality.values(), reverse=True))"
   ]
  },
  {
   "cell_type": "markdown",
   "metadata": {},
   "source": [
    "Since all of the centrality values are unique, we can look up nodes by their centrality values. "
   ]
  },
  {
   "cell_type": "code",
   "execution_count": 112,
   "metadata": {
    "collapsed": true
   },
   "outputs": [],
   "source": [
    "subr_list = []\n",
    "for node in centrality:\n",
    "    subr_list.append((node, centrality[node]))\n",
    "    \n",
    "sorted_subr_list = subr_list.sort(key=lambda x: x[1])"
   ]
  },
  {
   "cell_type": "code",
   "execution_count": 115,
   "metadata": {
    "collapsed": false
   },
   "outputs": [
    {
     "name": "stdout",
     "output_type": "stream",
     "text": [
      "/r/imaginarybattlefields /r/imaginarycityscapes /r/imaginarywastelands /r/imaginarywildlands /r/imaginaryleviathans /r/imaginarydragons /r/imaginarystarscapes /r/imaginarywesteros /r/imaginaryartifacts /r/imaginaryangels /r/imaginarymaps /r/imaginarybehemoths /r/imaginarydemons /r/imaginaryelves /r/imaginarycentaurs /r/imaginaryfuturewar /r/imaginarysoldiers /r/imaginaryhistory /r/imaginaryarmor /r/imaginarystarships /r/imaginarynetwork /r/imaginaryjedi /r/imaginarydinosaurs /r/imaginarysteampunk /r/imaginarycyberpunk /r/imaginaryarchers /r/imaginaryvehicles /r/imaginaryanime /r/imaginaryfallout /r/imaginaryastronauts /r/imaginarymusic /r/imaginaryfactories /r/imaginaryequestria /r/imaginarywarships /r/imaginaryazeroth /r/imaginaryarrakis /r/imaginarydisney /r/imaginarypolitics /r/imaginaryhorrors /r/imaginarywinterscapes /r/imaginaryseascapes /r/imaginarypirates /r/imaginarywarriors /r/imaginarymiddleearth /r/imaginarygallifrey /r/imaginarymechs /r/imaginarypropaganda /r/imaginarymerfolk /r/imaginaryvikings /r/imaginaryundead /r/imaginarybeasts /r/imaginarymutants /r/imaginaryruins /r/imaginarytamriel /r/imaginaryforests /r/imaginaryelementals /r/imaginaryskyscapes /r/imaginarymonuments /r/imaginarywaterfalls /r/imaginaryworlds /r/imaginarywizards /r/imaginaryinteriors /r/imaginaryhogwarts /r/imaginarytowers /r/imaginaryarchitecture /r/imaginaryweaponry /r/imaginarygaming /r/imaginarycastles /r/imaginaryrobotics /r/imaginarybooks /r/imaginarygnomes /r/imaginaryvillages /r/imaginarydeserts /r/imaginarywerewolves /r/imaginarydieselpunk /r/imaginaryvampires /r/imaginaryadrenaline /r/imaginarykanto /r/imaginarynatives /r/imaginaryrivers /r/imaginarytemples /r/imaginaryassassins /r/imaginaryvolcanoes /r/imaginaryclerics /r/imaginaryprisons /r/imaginarygiants /r/imaginarycowboys /r/imaginaryhumans /r/imaginarydwarves /r/imaginarycaves /r/imaginarytrolls /r/imaginarywalls /r/imaginarylakes /r/imaginarywitches /r/imaginaryorcs /r/imaginarycanyons /r/imaginaryasylums /r/imaginaryimmortals /r/imaginaryaliens /r/imaginarynobles /r/imaginaryspirits /r/imaginaryaetherpunk /r/imaginarytrees /r/imaginaryislands /r/imaginaryninjas /r/imaginaryscience /r/imaginarymountains /r/imaginaryknights /r/imaginarygoblins /r/imaginaryfaeries /r/imaginarygotham /r/imaginarycybernetics /r/imaginaryooo /r/imaginaryderelicts /r/imaginaryfood /r/imaginaryworldeaters /r/imaginarymindscapes /r/imaginaryaww /r/imaginarymarvel /r/imaginaryweather /r/imaginarynewnewyork /r/imaginaryspidey /r/imaginaryautumnscapes /r/imaginarywarhammer /r/imaginaryfeels /r/imaginarywitcher /r/imaginaryvessels /r/imaginarytaverns /r/imaginarybestof /r/imaginaryairships /r/imaginaryportals /r/imaginaryfashion /r/imaginarylovers /r/imaginarydc /r/imaginaryanimals /r/imaginaryhellscapes /r/imaginarycolorscapes /r/imaginarymonstergirls /r/imaginaryswamps /r/imaginarymythology /r/imaginaryscholars /r/imaginaryladyboners /r/imaginaryfuturism /r/imaginaryaviation /r/imaginarypathways /r/imaginarygatherings /r/imaginarybodyscapes /r/imaginaryoverwatch /r/imaginarydwellings /r/imaginarystephenking /r/specart /r/inegentlemanboners /r/comicbookart /r/imaginarymasseffect /r/imaginaryhalo /r/imaginaryjerk /r/backgroundart /r/futureporn /r/imaginarywallpapers /r/imaginaryfamilies /r/imaginarylibraries /r/imaginaryturtleworlds /r/imaginarydesigns /r/wallpapers /r/apocalypseporn /r/comicbookporn /r/isometric /r/imaginarybakerst /r/imaginaryverse /r/imaginarysunnydale /r/imaginaryfederation /r/imaginarysanctuary /r/starshipporn /r/imaginarystarcraft /r/imaginaryoldkingdom /r/imaginarynarnia /r/imaginarycybertron /r/gameworlds /r/imaginarycarnage /r/imaginaryboners /r/icandrawthat /r/imaginarycosmere /r/imaginaryaperture /r/armoredwomen /r/imaginarywtf /r/unusualart /r/imaginaryblueprints /r/alternativeart /r/sympatheticmonsters /r/adorabledragons /r/imaginarysummerscapes /r/imaginarygayboners /r/imaginarystash /r/artistoftheday /r/imaginaryglaciers /r/imaginaryhybrids /r/imaginaryadventurers /r/imaginarymetropolis /r/craftsoficeandfire /r/popartnouveau\n"
     ]
    }
   ],
   "source": [
    "for x in sorted(subr_list, key=lambda x: x[1], reverse=True)[:200]: print x[0],"
   ]
  },
  {
   "cell_type": "markdown",
   "metadata": {},
   "source": [
    "There seems to be a network of \"imaginary\" subreddits that have the highest centrality. The members of this network probably all link to themselves as well as many other subreddits as the \"imaginary\" topics span a wide range content. This network may be drowning out other nodes that would otherwise have a high centrality relative to the rest of the subreddits. It might be interesting to eliminate these nodes from the graph and recalculate centrality. Let's look at the distribution of centrality values: "
   ]
  },
  {
   "cell_type": "code",
   "execution_count": 116,
   "metadata": {
    "collapsed": false
   },
   "outputs": [
    {
     "data": {
      "text/plain": [
       "[<matplotlib.lines.Line2D at 0x1a38a6a0>]"
      ]
     },
     "execution_count": 116,
     "metadata": {},
     "output_type": "execute_result"
    },
    {
     "data": {
      "image/png": "[encoded data removed]",
      "text/plain": [
       "<matplotlib.figure.Figure at 0x1958b780>"
      ]
     },
     "metadata": {},
     "output_type": "display_data"
    }
   ],
   "source": [
    "plt.plot(sorted(centrality.values(), reverse=True)[:1000])"
   ]
  },
  {
   "cell_type": "markdown",
   "metadata": {},
   "source": [
    "$a = \\sum_{s,t  \\in V}  \\frac{d(s,t)}{n(n-1)}$"
   ]
  },
  {
   "cell_type": "markdown",
   "metadata": {},
   "source": [
    "# Connectedness\n",
    "\n",
    "Let's take a look at the graph as a whole. One thing I'm not sure of is whether or not the entire graph is connected. This means that any node can be reached from any other node. Since we constructed the graph from 49 unrelated nodes, it is possible that the graph is unconnected. This would mean that one or more of the default subreddits and its subreddits is not connected with the rest of the graph. In searching for the shortest path I did not come across any pairs of nodes that did not have a path between themselves. I wouldn't be surprised if there are a handful of nodes that stand on their own. "
   ]
  },
  {
   "cell_type": "code",
   "execution_count": 136,
   "metadata": {
    "collapsed": false
   },
   "outputs": [
    {
     "name": "stdout",
     "output_type": "stream",
     "text": [
      "Our graph has 29854 nodes and 149491 edges.\n"
     ]
    }
   ],
   "source": [
    "#size of graph: nodes and edges (or, subreddits and connecting links)\n",
    "print \"Our graph has \" + str(nx.number_of_nodes(G1)) + ' nodes and ' + str(nx.number_of_edges(G1)) + ' edges.' "
   ]
  },
  {
   "cell_type": "code",
   "execution_count": 140,
   "metadata": {
    "collapsed": false
   },
   "outputs": [
    {
     "name": "stdout",
     "output_type": "stream",
     "text": [
      "True of False: our graph is connected... False!\n"
     ]
    }
   ],
   "source": [
    "print \"True of False: our graph is connected... \" + str(nx.is_connected(G1)) + '!'"
   ]
  },
  {
   "cell_type": "code",
   "execution_count": 156,
   "metadata": {
    "collapsed": false
   },
   "outputs": [
    {
     "name": "stdout",
     "output_type": "stream",
     "text": [
      "The largest connected component subgraph has 29840 nodes. \n"
     ]
    }
   ],
   "source": [
    "Gc = max(nx.connected_component_subgraphs(G1), key=len)\n",
    "print \"The largest connected component subgraph has \" + str(nx.number_of_nodes(Gc)) + \" nodes. \" "
   ]
  },
  {
   "cell_type": "markdown",
   "metadata": {},
   "source": [
    "There are 14 nodes that are not connected to the main connected component. Let's list them. "
   ]
  },
  {
   "cell_type": "code",
   "execution_count": 166,
   "metadata": {
    "collapsed": false
   },
   "outputs": [
    {
     "name": "stdout",
     "output_type": "stream",
     "text": [
      "/r/spacediscussions /r/wtfit.gif /r/space. /r/subreddit_graph /r/vidalia /r/listentothis. /r/history. /r/all. /r/ghostdriver /r/personalfinance. /r/toombscounty /r/gaming /r/science /r/books.\n"
     ]
    }
   ],
   "source": [
    "for x in list(set(nx.to_dict_of_lists(G1, nodelist=None).keys()) - set(nx.to_dict_of_lists(Gc, nodelist=None).keys())): print x, "
   ]
  },
  {
   "cell_type": "markdown",
   "metadata": {},
   "source": [
    "Some of the large communities on reddit include /r/books, /r/gaming and /r/science. These subreddits list related subreddits on separate wiki pages since there are many related subreddits for each one. They were most likely all captured in the subsequent levels of the graph, but they also did not link back to /r/science. Here's an example: "
   ]
  },
  {
   "cell_type": "code",
   "execution_count": 172,
   "metadata": {
    "collapsed": false
   },
   "outputs": [
    {
     "name": "stdout",
     "output_type": "stream",
     "text": [
      "['/r/physicsjokes', '/r/gradadmissions', '/r/homeworkhelp', '/r/scienceimages', '/r/askacademia', '/r/physicsgifs', '/r/physicsstudents', '/r/gradschool', '/r/askphysics', '/r/physics']\n"
     ]
    }
   ],
   "source": [
    "for x in master_df_u.loc[master_df_u.subreddit=='/r/physics'].related: print x"
   ]
  },
  {
   "cell_type": "markdown",
   "metadata": {},
   "source": [
    "To be continued..."
   ]
  }
 ],
 "metadata": {
  "anaconda-cloud": {},
  "kernelspec": {
   "display_name": "Python [default]",
   "language": "python",
   "name": "python2"
  },
  "language_info": {
   "codemirror_mode": {
    "name": "ipython",
    "version": 2
   },
   "file_extension": ".py",
   "mimetype": "text/x-python",
   "name": "python",
   "nbconvert_exporter": "python",
   "pygments_lexer": "ipython2",
   "version": "2.7.12"
  }
 },
 "nbformat": 4,
 "nbformat_minor": 0
}
